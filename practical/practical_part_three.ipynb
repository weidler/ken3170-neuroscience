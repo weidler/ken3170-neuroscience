{
 "cells": [
  {
   "cell_type": "markdown",
   "metadata": {},
   "source": [
    "# Diving Deeper into RSA\n",
    "\n",
    "In this practical, you will estimate Representational Dissimilarity Matricies (RDMs) from data, compare them to each other, and experiment on different distance/similarity metrics. The tutorial part in the beginning is a condensed version of a demo from the rsatoolbox documentation ;)"
   ]
  },
  {
   "cell_type": "code",
   "execution_count": 15,
   "metadata": {
    "ExecuteTime": {
     "end_time": "2025-10-02T15:55:37.381142Z",
     "start_time": "2025-10-02T15:55:37.378330Z"
    }
   },
   "outputs": [],
   "source": [
    "# relevant imports\n",
    "import numpy as np\n",
    "from scipy import io\n",
    "import matplotlib.pyplot as plt\n",
    "import rsatoolbox\n",
    "import rsatoolbox.data as rsd # abbreviation to deal with dataset\n",
    "import rsatoolbox.rdm as rsr\n",
    "%matplotlib inline"
   ]
  },
  {
   "cell_type": "markdown",
   "metadata": {},
   "source": [
    "We first generate an example dataset we want to calculate RDM(s) from. We use simulated data for a 92 image dataset."
   ]
  },
  {
   "cell_type": "code",
   "execution_count": 16,
   "metadata": {
    "ExecuteTime": {
     "end_time": "2025-10-02T15:55:37.396442Z",
     "start_time": "2025-10-02T15:55:37.392403Z"
    }
   },
   "outputs": [],
   "source": [
    "# create a dataset object\n",
    "measurements = io.matlab.loadmat('data/simTruePatterns.mat')\n",
    "measurements = measurements['simTruePatterns2']\n",
    "nCond = measurements.shape[0]\n",
    "nVox = measurements.shape[1]\n",
    "\n",
    "# now create a  dataset object\n",
    "des = {'session': 1, 'subj': 1}\n",
    "obs_des = {'conds': np.array(['cond_%02d' % x for x in np.arange(nCond)])}\n",
    "chn_des = {'voxels': np.array(['voxel_' + str(x) for x in np.arange(nVox)])}\n",
    "data = rsd.Dataset(measurements=measurements,\n",
    "                   descriptors=des,\n",
    "                   obs_descriptors=obs_des,\n",
    "                   channel_descriptors=chn_des)"
   ]
  },
  {
   "cell_type": "markdown",
   "metadata": {},
   "source": [
    "### Calculating our first RDM\n",
    "The main function to calculate RDMs from data is `rsatoolbox.rdm.calc_rdm` to which we have abbreviated access as `rsr.calc_rdm` here. The function takes a dataset object as its main input. Additionally, we here pass the descriptor 'conds' to specify that we want to create a RDM of dissimilarities between conditions as specified by 'conds'. If this input is not provided the RDM is calculated assuming that each row is a separate pattern or condition. To avoid confusion, we generally recommend to pass the `descriptor` argument."
   ]
  },
  {
   "cell_type": "code",
   "execution_count": 17,
   "metadata": {
    "ExecuteTime": {
     "end_time": "2025-10-02T15:55:37.404687Z",
     "start_time": "2025-10-02T15:55:37.401237Z"
    }
   },
   "outputs": [
    {
     "name": "stdout",
     "output_type": "stream",
     "text": [
      "rsatoolbox.rdm.RDMs\n",
      "1 RDM(s) over 92 conditions\n",
      "\n",
      "dissimilarity_measure = \n",
      "squared euclidean\n",
      "\n",
      "dissimilarities[0] = \n",
      "[[0.         1.79168033 1.79025977 ... 2.34585297 2.34306615 2.37794181]\n",
      " [1.79168033 0.         1.82424097 ... 2.3153871  2.28580169 2.32155829]\n",
      " [1.79025977 1.82424097 0.         ... 2.40876617 2.36854597 2.32501722]\n",
      " ...\n",
      " [2.34585297 2.3153871  2.40876617 ... 0.         1.76469464 1.72393365]\n",
      " [2.34306615 2.28580169 2.36854597 ... 1.76469464 0.         1.78983719]\n",
      " [2.37794181 2.32155829 2.32501722 ... 1.72393365 1.78983719 0.        ]]\n",
      "\n",
      "descriptors: \n",
      "\n",
      "rdm_descriptors: \n",
      "session = [1]\n",
      "subj = [1]\n",
      "index = [0]\n",
      "\n",
      "pattern_descriptors: \n",
      "conds = [np.str_('cond_00'), np.str_('cond_01'), np.str_('cond_02'), np.str_('cond_03'), np.str_('cond_04'), np.str_('cond_05'), np.str_('cond_06'), np.str_('cond_07'), np.str_('cond_08'), np.str_('cond_09'), np.str_('cond_10'), np.str_('cond_11'), np.str_('cond_12'), np.str_('cond_13'), np.str_('cond_14'), np.str_('cond_15'), np.str_('cond_16'), np.str_('cond_17'), np.str_('cond_18'), np.str_('cond_19'), np.str_('cond_20'), np.str_('cond_21'), np.str_('cond_22'), np.str_('cond_23'), np.str_('cond_24'), np.str_('cond_25'), np.str_('cond_26'), np.str_('cond_27'), np.str_('cond_28'), np.str_('cond_29'), np.str_('cond_30'), np.str_('cond_31'), np.str_('cond_32'), np.str_('cond_33'), np.str_('cond_34'), np.str_('cond_35'), np.str_('cond_36'), np.str_('cond_37'), np.str_('cond_38'), np.str_('cond_39'), np.str_('cond_40'), np.str_('cond_41'), np.str_('cond_42'), np.str_('cond_43'), np.str_('cond_44'), np.str_('cond_45'), np.str_('cond_46'), np.str_('cond_47'), np.str_('cond_48'), np.str_('cond_49'), np.str_('cond_50'), np.str_('cond_51'), np.str_('cond_52'), np.str_('cond_53'), np.str_('cond_54'), np.str_('cond_55'), np.str_('cond_56'), np.str_('cond_57'), np.str_('cond_58'), np.str_('cond_59'), np.str_('cond_60'), np.str_('cond_61'), np.str_('cond_62'), np.str_('cond_63'), np.str_('cond_64'), np.str_('cond_65'), np.str_('cond_66'), np.str_('cond_67'), np.str_('cond_68'), np.str_('cond_69'), np.str_('cond_70'), np.str_('cond_71'), np.str_('cond_72'), np.str_('cond_73'), np.str_('cond_74'), np.str_('cond_75'), np.str_('cond_76'), np.str_('cond_77'), np.str_('cond_78'), np.str_('cond_79'), np.str_('cond_80'), np.str_('cond_81'), np.str_('cond_82'), np.str_('cond_83'), np.str_('cond_84'), np.str_('cond_85'), np.str_('cond_86'), np.str_('cond_87'), np.str_('cond_88'), np.str_('cond_89'), np.str_('cond_90'), np.str_('cond_91')]\n",
      "index = [0, 1, 2, 3, 4, 5, 6, 7, 8, 9, 10, 11, 12, 13, 14, 15, 16, 17, 18, 19, 20, 21, 22, 23, 24, 25, 26, 27, 28, 29, 30, 31, 32, 33, 34, 35, 36, 37, 38, 39, 40, 41, 42, 43, 44, 45, 46, 47, 48, 49, 50, 51, 52, 53, 54, 55, 56, 57, 58, 59, 60, 61, 62, 63, 64, 65, 66, 67, 68, 69, 70, 71, 72, 73, 74, 75, 76, 77, 78, 79, 80, 81, 82, 83, 84, 85, 86, 87, 88, 89, 90, 91]\n",
      "\n",
      "\n"
     ]
    }
   ],
   "source": [
    "# calculate a RDM\n",
    "RDM_euc = rsr.calc_rdm(data, descriptor='conds')\n",
    "print(RDM_euc)"
   ]
  },
  {
   "cell_type": "code",
   "execution_count": 18,
   "metadata": {
    "ExecuteTime": {
     "end_time": "2025-10-02T15:55:37.493845Z",
     "start_time": "2025-10-02T15:55:37.409639Z"
    }
   },
   "outputs": [
    {
     "data": {
      "image/png": "[encoded data removed]",
      "text/plain": [
       "<Figure size 200x200 with 1 Axes>"
      ]
     },
     "metadata": {},
     "output_type": "display_data"
    }
   ],
   "source": [
    "fig, ax, ret_val = rsatoolbox.vis.show_rdm(RDM_euc)"
   ]
  },
  {
   "cell_type": "markdown",
   "metadata": {},
   "source": [
    "## Crossvalidated dissimilarities\n",
    "When we have multiple independent measurements of a pattern we can use crossvalidated distances to achieve an unbiased estimate of the dissimilarities between patterns. Essentially, this is meant to counteract the upward bias caused by adding noise to the measurements. You may have noticed this bias by comparing the noisy RDMs we just created and the clean rdm we created at the beginning of this tutorial.\n",
    "\n",
    "To illustrate how to do this using rsatoolbox, we first create a dataset with multiple (`n_rep`) measurements for each pattern:"
   ]
  },
  {
   "cell_type": "code",
   "execution_count": 19,
   "metadata": {
    "ExecuteTime": {
     "end_time": "2025-10-02T15:55:37.937597Z",
     "start_time": "2025-10-02T15:55:37.935219Z"
    }
   },
   "outputs": [],
   "source": [
    "n_rep = 3\n",
    "m_noisy = np.repeat(measurements, n_rep, axis=0)\n",
    "m_noisy += np.random.randn(*m_noisy.shape)\n",
    "    \n",
    "conds = np.array(['cond_%02d' % x for x in np.arange(nCond)])\n",
    "sessions = np.tile(np.arange(n_rep), 92)\n",
    "conds = np.repeat(conds, n_rep)\n",
    "cv_obs_des = {'conds': conds, 'sessions': sessions}\n",
    "\n",
    "des = {'subj': 1}\n",
    "\n",
    "dataset = rsd.Dataset(\n",
    "    measurements=m_noisy,\n",
    "    descriptors=des,\n",
    "    obs_descriptors=cv_obs_des,\n",
    "    channel_descriptors=chn_des)"
   ]
  },
  {
   "cell_type": "markdown",
   "metadata": {},
   "source": [
    "Importantly, we added a sessions descriptor which marks which measurement comes from which session. We can now compute the crossvalidated distances simply using the `'crossnobis'` rdm calculation method. To specify which measurements come from the same session we pass `'sessions'` as the `cv_descriptor`. "
   ]
  },
  {
   "cell_type": "code",
   "execution_count": 20,
   "metadata": {
    "ExecuteTime": {
     "end_time": "2025-10-02T15:55:37.948378Z",
     "start_time": "2025-10-02T15:55:37.941710Z"
    }
   },
   "outputs": [
    {
     "name": "stderr",
     "output_type": "stream",
     "text": [
      "/Users/weidler/miniconda3/envs/ken3170/lib/python3.11/site-packages/numpy/_core/numeric.py:476: RuntimeWarning: invalid value encountered in cast\n",
      "  multiarray.copyto(res, fill_value, casting='unsafe')\n"
     ]
    }
   ],
   "source": [
    "rdm_cv = rsatoolbox.rdm.calc_rdm(dataset, method='crossnobis', descriptor='conds', cv_descriptor='sessions')"
   ]
  },
  {
   "cell_type": "code",
   "execution_count": 21,
   "metadata": {},
   "outputs": [
    {
     "data": {
      "image/png": "[encoded data removed]",
      "text/plain": [
       "<Figure size 200x200 with 1 Axes>"
      ]
     },
     "metadata": {},
     "output_type": "display_data"
    }
   ],
   "source": [
    "rsatoolbox.vis.show_rdm(rdm_cv)\n",
    "None"
   ]
  },
  {
   "cell_type": "markdown",
   "metadata": {},
   "source": [
    "Looking at this rdm, we can see that this indeed removed the overall upward bias, although the rdm is still noisy of course."
   ]
  },
  {
   "cell_type": "markdown",
   "metadata": {},
   "source": [
    "## Comparing RDMs\n",
    "\n",
    "Once we have estimated RDMs from data, we can compare them to each other or to model RDMs. This is done using the `rsatoolbox.rdm.compare_rdm` function. Let's compare the crossvalidated RDM we just created to the clean RDM we created at the beginning of this tutorial:\n",
    "\n",
    "\n"
   ]
  },
  {
   "cell_type": "code",
   "execution_count": 22,
   "metadata": {
    "ExecuteTime": {
     "end_time": "2025-10-02T16:03:22.734523Z",
     "start_time": "2025-10-02T16:02:20.273801Z"
    }
   },
   "outputs": [
    {
     "data": {
      "text/plain": [
       "array([[0.78253809]])"
      ]
     },
     "execution_count": 22,
     "metadata": {},
     "output_type": "execute_result"
    }
   ],
   "source": [
    "rsatoolbox.rdm.compare(rdm_cv, RDM_euc, method='corr')"
   ]
  },
  {
   "cell_type": "markdown",
   "metadata": {},
   "source": [
    "#### Exercise I: Comparing different similarity measures\n",
    "\n",
    "By reusing the code from above with which we created RDMs crossvalidated over multiple sessions, build a comparison of the different available similarity measures in the rsatoolbox and how they respond to different levels of noise. Plot the results with incremental levels of noise on the x-Axis, and the similarity between the noisy crossvalidated RDM and the true RDM on the y-Axis. "
   ]
  },
  {
   "cell_type": "code",
   "execution_count": 23,
   "metadata": {},
   "outputs": [],
   "source": [
    "# your code here"
   ]
  },
  {
   "cell_type": "markdown",
   "metadata": {},
   "source": [
    "#### Optional Exercise: Also play with the RDM distance metric \n",
    "\n",
    "Do the above for the different distance metrics available (one plot for each)."
   ]
  },
  {
   "cell_type": "code",
   "execution_count": 24,
   "metadata": {},
   "outputs": [],
   "source": [
    "# your code here"
   ]
  },
  {
   "cell_type": "markdown",
   "metadata": {},
   "source": [
    "### Exercise II: Let's t-SNE this\n",
    "\n",
    "Take the RDMs and plot them on a two-dimensional plane using t-SNE. Again do this for different noise levels and observe the effect of the noise. If you have the time, consider other methods, like UMAP (not discussed in class but available in sklearn)."
   ]
  },
  {
   "cell_type": "code",
   "execution_count": 25,
   "metadata": {},
   "outputs": [],
   "source": [
    "# your code here"
   ]
  },
  {
   "cell_type": "markdown",
   "metadata": {},
   "source": [
    "### Exercise III: Testing Hypotheses\n",
    "\n",
    "Its time to make some ... hypotheses. The RDMs describe the dissimlarity between the images according to the representations recorded in the data. We can build model RDMs by hand that capture our assumptions about how similar or dissimilar the pictures should be if the brain representations discern the stimuli on certain features. Create such model RDMs by hand for certain assumptions about the images as you inspect them. Take the construction of a 'all-is-dissimilar' RDM as a starting point. "
   ]
  },
  {
   "cell_type": "code",
   "execution_count": 56,
   "metadata": {},
   "outputs": [],
   "source": [
    "all_dissimilar = np.ones((92, 92)) + np.random.randn(92, 92) * 0.001\n",
    "np.fill_diagonal(all_dissimilar, 0)\n",
    "all_dissimilar = np.expand_dims(all_dissimilar, 0)\n",
    "all_dissimilar_rdm = rsr.RDMs(all_dissimilar)\n",
    "\n",
    "rsr.compare(RDM_euc, all_dissimilar_rdm, method='corr')"
   ]
  },
  {
   "cell_type": "markdown",
   "metadata": {},
   "source": [
    "Now build at least two hypotheses yourself and capture them in an RDM. Check with hypothesis is closer to reality."
   ]
  },
  {
   "cell_type": "code",
   "execution_count": null,
   "metadata": {},
   "outputs": [],
   "source": [
    "# your code here"
   ]
  }
 ],
 "metadata": {
  "kernelspec": {
   "display_name": "Python 3 (ipykernel)",
   "language": "python",
   "name": "python3"
  },
  "language_info": {
   "codemirror_mode": {
    "name": "ipython",
    "version": 3
   },
   "file_extension": ".py",
   "mimetype": "text/x-python",
   "name": "python",
   "nbconvert_exporter": "python",
   "pygments_lexer": "ipython3",
   "version": "3.11.13"
  },
  "vscode": {
   "interpreter": {
    "hash": "af6f0c1be22da210ce14b764d3d407b4e31df46360687c396ac7d1fbf0a9a76f"
   }
  }
 },
 "nbformat": 4,
 "nbformat_minor": 4
}
