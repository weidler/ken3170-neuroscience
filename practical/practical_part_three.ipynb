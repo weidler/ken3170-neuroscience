{
 "cells": [
  {
   "cell_type": "markdown",
   "metadata": {},
   "source": [
    "# Practical Part III: Diving Deeper into RSA - By Code\n",
    "\n",
    "In this practical, you will estimate Representational Dissimilarity Matricies (RDMs) from data, compare them to each other, and experiment on different distance/similarity metrics. The tutorial part in the beginning is a condensed version of a demo from the rsatoolbox documentation ;)"
   ]
  },
  {
   "cell_type": "code",
   "metadata": {},
   "source": [
    "# relevant imports\n",
    "import numpy as np\n",
    "from scipy import io\n",
    "import matplotlib.pyplot as plt\n",
    "import rsatoolbox\n",
    "import rsatoolbox.data as rsd # abbreviation to deal with dataset\n",
    "import rsatoolbox.rdm as rsr\n",
    "%matplotlib inline"
   ],
   "outputs": [],
   "execution_count": null
  },
  {
   "cell_type": "markdown",
   "metadata": {},
   "source": [
    "We first generate an example dataset we want to calculate RDM(s) from. We use simulated data for a 92 image dataset."
   ]
  },
  {
   "cell_type": "code",
   "metadata": {},
   "source": [
    "# create a dataset object\n",
    "measurements = io.matlab.loadmat('data/simTruePatterns.mat')\n",
    "measurements = measurements['simTruePatterns2']\n",
    "nCond = measurements.shape[0]\n",
    "nVox = measurements.shape[1]\n",
    "\n",
    "# now create a  dataset object\n",
    "des = {'session': 1, 'subj': 1}\n",
    "obs_des = {'conds': np.array(['cond_%02d' % x for x in np.arange(nCond)])}\n",
    "chn_des = {'voxels': np.array(['voxel_' + str(x) for x in np.arange(nVox)])}\n",
    "data = rsd.Dataset(measurements=measurements,\n",
    "                   descriptors=des,\n",
    "                   obs_descriptors=obs_des,\n",
    "                   channel_descriptors=chn_des)"
   ],
   "outputs": [],
   "execution_count": null
  },
  {
   "cell_type": "markdown",
   "metadata": {},
   "source": [
    "### Calculating our first RDM\n",
    "The main function to calculate RDMs from data is `rsatoolbox.rdm.calc_rdm` to which we have abbreviated access as `rsr.calc_rdm` here. The function takes a dataset object as its main input. Additionally, we here pass the descriptor 'conds' to specify that we want to create a RDM of dissimilarities between conditions as specified by 'conds'. If this input is not provided the RDM is calculated assuming that each row is a separate pattern or condition. To avoid confusion, we generally recommend to pass the `descriptor` argument."
   ]
  },
  {
   "cell_type": "code",
   "metadata": {},
   "source": [
    "# calculate a RDM\n",
    "RDM_euc = rsr.calc_rdm(data, descriptor='conds')\n",
    "print(RDM_euc)"
   ],
   "outputs": [],
   "execution_count": null
  },
  {
   "cell_type": "code",
   "metadata": {},
   "source": [
    "fig, ax, ret_val = rsatoolbox.vis.show_rdm(RDM_euc)"
   ],
   "outputs": [],
   "execution_count": null
  },
  {
   "cell_type": "markdown",
   "metadata": {},
   "source": [
    "## Crossvalidated dissimilarities\n",
    "When we have multiple independent measurements of a pattern we can use crossvalidated distances to achieve an unbiased estimate of the dissimilarities between patterns. Essentially, this is meant to counteract the upward bias caused by adding noise to the measurements. You may have noticed this bias by comparing the noisy RDMs we just created and the clean rdm we created at the beginning of this tutorial.\n",
    "\n",
    "To illustrate how to do this using rsatoolbox, we first create a dataset with multiple (`n_rep`) measurements for each pattern:"
   ]
  },
  {
   "cell_type": "code",
   "metadata": {},
   "source": [
    "n_rep = 3\n",
    "m_noisy = np.repeat(measurements, n_rep, axis=0)\n",
    "m_noisy += np.random.randn(*m_noisy.shape)\n",
    "    \n",
    "conds = np.array(['cond_%02d' % x for x in np.arange(nCond)])\n",
    "sessions = np.tile(np.arange(n_rep), 92)\n",
    "conds = np.repeat(conds, n_rep)\n",
    "cv_obs_des = {'conds': conds, 'sessions': sessions}\n",
    "\n",
    "des = {'subj': 1}\n",
    "\n",
    "dataset = rsd.Dataset(\n",
    "    measurements=m_noisy,\n",
    "    descriptors=des,\n",
    "    obs_descriptors=cv_obs_des,\n",
    "    channel_descriptors=chn_des)"
   ],
   "outputs": [],
   "execution_count": null
  },
  {
   "cell_type": "markdown",
   "metadata": {},
   "source": [
    "Importantly, we added a sessions descriptor which marks which measurement comes from which session. We can now compute the crossvalidated distances simply using the `'crossnobis'` rdm calculation method. To specify which measurements come from the same session we pass `'sessions'` as the `cv_descriptor`. "
   ]
  },
  {
   "cell_type": "code",
   "metadata": {},
   "source": [
    "rdm_cv = rsatoolbox.rdm.calc_rdm(dataset, method='crossnobis', descriptor='conds', cv_descriptor='sessions')"
   ],
   "outputs": [],
   "execution_count": null
  },
  {
   "cell_type": "code",
   "metadata": {},
   "source": [
    "rsatoolbox.vis.show_rdm(rdm_cv)\n",
    "None"
   ],
   "outputs": [],
   "execution_count": null
  },
  {
   "cell_type": "markdown",
   "metadata": {},
   "source": [
    "Looking at this rdm, we can see that this indeed removed the overall upward bias, although the rdm is still noisy of course."
   ]
  },
  {
   "cell_type": "markdown",
   "metadata": {},
   "source": [
    "## Comparing RDMs\n",
    "\n",
    "Once we have estimated RDMs from data, we can compare them to each other or to model RDMs. This is done using the `rsatoolbox.rdm.compare_rdm` function. Let's compare the crossvalidated RDM we just created to the clean RDM we created at the beginning of this tutorial:\n",
    "\n",
    "\n"
   ]
  },
  {
   "cell_type": "code",
   "metadata": {},
   "source": [
    "rsatoolbox.rdm.compare(rdm_cv, RDM_euc, method='corr')"
   ],
   "outputs": [],
   "execution_count": null
  },
  {
   "cell_type": "markdown",
   "metadata": {},
   "source": [
    "#### Exercise I: Comparing different similarity measures\n",
    "\n",
    "By reusing the code from above with which we created RDMs crossvalidated over multiple sessions, build a comparison of the different available similarity measures in the rsatoolbox and how they respond to different levels of noise. Plot the results with incremental levels of noise on the x-Axis, and the similarity between the noisy crossvalidated RDM and the true RDM on the y-Axis. "
   ]
  },
  {
   "cell_type": "code",
   "metadata": {},
   "source": [
    "# your code here"
   ],
   "outputs": [],
   "execution_count": null
  },
  {
   "cell_type": "markdown",
   "metadata": {},
   "source": [
    "#### Optional Exercise: Also play with the RDM distance metric \n",
    "\n",
    "Do the above for the different distance metrics available (one plot for each)."
   ]
  },
  {
   "cell_type": "code",
   "metadata": {},
   "source": [
    "# your code here"
   ],
   "outputs": [],
   "execution_count": null
  },
  {
   "cell_type": "markdown",
   "metadata": {},
   "source": [
    "### Exercise II: Let's t-SNE this\n",
    "\n",
    "Take the RDMs and plot them on a two-dimensional plane using t-SNE. Again do this for different noise levels and observe the effect of the noise. If you have the time, consider other methods, like UMAP (not discussed in class but available in sklearn-like Python package `umap-learn`)."
   ]
  },
  {
   "cell_type": "code",
   "metadata": {},
   "source": [
    "# your code here"
   ],
   "outputs": [],
   "execution_count": null
  },
  {
   "cell_type": "markdown",
   "metadata": {},
   "source": [
    "### Exercise III: Testing Hypotheses\n",
    "\n",
    "Its time to make some ... hypotheses. The RDMs describe the dissimlarity between the images according to the representations recorded in the data. We can build model RDMs by hand that capture our assumptions about how similar or dissimilar the pictures should be if the brain representations discern the stimuli on certain features. Create such model RDMs by hand for certain assumptions about the images as you inspect them. Take the construction of a 'all-is-dissimilar' RDM as a starting point. "
   ]
  },
  {
   "cell_type": "code",
   "metadata": {},
   "source": [
    "all_dissimilar = np.ones((92, 92)) + np.random.randn(92, 92) * 0.001\n",
    "np.fill_diagonal(all_dissimilar, 0)\n",
    "all_dissimilar = np.expand_dims(all_dissimilar, 0)\n",
    "all_dissimilar_rdm = rsr.RDMs(all_dissimilar)\n",
    "\n",
    "rsr.compare(RDM_euc, all_dissimilar_rdm, method='corr')"
   ],
   "outputs": [],
   "execution_count": null
  },
  {
   "cell_type": "markdown",
   "metadata": {},
   "source": [
    "Now build at least two hypotheses yourself and capture them in an RDM. Check with hypothesis is closer to reality."
   ]
  },
  {
   "cell_type": "code",
   "metadata": {},
   "source": [
    "# your code here"
   ],
   "outputs": [],
   "execution_count": null
  }
 ],
 "metadata": {
  "kernelspec": {
   "display_name": "Python 3 (ipykernel)",
   "language": "python",
   "name": "python3"
  },
  "language_info": {
   "codemirror_mode": {
    "name": "ipython",
    "version": 3
   },
   "file_extension": ".py",
   "mimetype": "text/x-python",
   "name": "python",
   "nbconvert_exporter": "python",
   "pygments_lexer": "ipython3",
   "version": "3.11.13"
  },
  "vscode": {
   "interpreter": {
    "hash": "af6f0c1be22da210ce14b764d3d407b4e31df46360687c396ac7d1fbf0a9a76f"
   }
  }
 },
 "nbformat": 4,
 "nbformat_minor": 4
}
