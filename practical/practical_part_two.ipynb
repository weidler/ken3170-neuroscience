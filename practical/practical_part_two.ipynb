{
 "cells": [
  {
   "cell_type": "markdown",
   "metadata": {},
   "source": "# Practical Part II: Getting started with RSA"
  },
  {
   "cell_type": "markdown",
   "metadata": {},
   "source": [
    "## Introduction\n",
    "\n",
    "In the following exercises you will get familiar with rsatoolbox, a Python library for performing model to data comparisons using RSA. You will be comparing existing RDMs of an AlexNet with noisy version of those RDMs that simulate fMRI data."
   ]
  },
  {
   "cell_type": "markdown",
   "metadata": {},
   "source": [
    "## Step 1: Data and RDM handling"
   ]
  },
  {
   "cell_type": "code",
   "metadata": {},
   "source": [
    "import numpy as np\n",
    "from scipy import io\n",
    "import rsatoolbox\n",
    "%matplotlib inline"
   ],
   "outputs": [],
   "execution_count": null
  },
  {
   "cell_type": "markdown",
   "metadata": {},
   "source": [
    "### Load model RDMs\n",
    "\n",
    "The models are different layers of Alexnet. The data were generated in Matlab (Kriegeskorte & Diedrichsen 2016). Thus, we load the Matlab files in .mat format. For each model-RDM, we obtain the RDM itself, a model name, and a measurement model name. The model name specifies the layer used to generate the RDM. The measurement model name specifies the applied distortions, but we will only consider the 'complete', undistorted model."
   ]
  },
  {
   "cell_type": "code",
   "metadata": {},
   "source": [
    "matlab_data = io.matlab.loadmat('data/modelRDMs_A2020.mat')\n",
    "matlab_data = matlab_data['modelRDMs']\n",
    "n_models = len(matlab_data[0])\n",
    "model_names = [matlab_data[0][i][0][0] for i in range(n_models)]\n",
    "measurement_model = [matlab_data[0][i][1][0] for i in range(n_models)]\n",
    "rdms_array = np.array([matlab_data[0][i][3][0] for i in range(n_models)])"
   ],
   "outputs": [],
   "execution_count": null
  },
  {
   "cell_type": "markdown",
   "metadata": {},
   "source": [
    "### Store the model RDMs as a rsatoolbox object\n",
    "We place the RDMs in a rsatoolbox object which can contain additional descriptors for the RDMs and the experimental conditions.\n",
    "Here we label each RDM with the name of the brain-computational model (AlexNet layer) and the name of the distortion, and then filter all the 'complete' models."
   ]
  },
  {
   "cell_type": "code",
   "metadata": {},
   "source": [
    "model_rdms = rsatoolbox.rdm.RDMs(rdms_array,\n",
    "                            rdm_descriptors={'brain_computational_model':model_names,\n",
    "                                             'measurement_model':measurement_model},\n",
    "                            dissimilarity_measure='Euclidean'\n",
    "                           ).subset('measurement_model','complete')"
   ],
   "outputs": [],
   "execution_count": null
  },
  {
   "cell_type": "markdown",
   "metadata": {},
   "source": [
    "The variable model_rdms is now a custom object, which contains all the RDMs from the .mat file with the additional information.\n",
    "It also has a few methods for forming subsets of the data, saving and loading, etc."
   ]
  },
  {
   "cell_type": "markdown",
   "metadata": {},
   "source": [
    "### Show the RDMs for all AlexNet layers\n",
    "\n",
    "Let's inspect the RDMs of the 9 AlexNet layers using the function rsatoolbox.vis.show_rdm."
   ]
  },
  {
   "cell_type": "code",
   "metadata": {},
   "source": [
    "fig, ax, ret_val = rsatoolbox.vis.show_rdm(per_layer_rdms, rdm_descriptor='brain_computational_model', figsize=(10,10))"
   ],
   "outputs": [],
   "execution_count": null
  },
  {
   "cell_type": "markdown",
   "metadata": {},
   "source": [
    "### Print information about a set of RDMs\n",
    "The rsatoolbox objects can simply be passed to the print function to obtain a short description of their content."
   ]
  },
  {
   "cell_type": "code",
   "metadata": {},
   "source": [
    "print(per_layer_rdms)"
   ],
   "outputs": [],
   "execution_count": null
  },
  {
   "cell_type": "markdown",
   "metadata": {},
   "source": [
    "### Questions\n",
    "\n",
    "Do you see a pattern along the layers of the model? How different are the layers?"
   ]
  },
  {
   "attachments": {},
   "cell_type": "markdown",
   "metadata": {},
   "source": [
    "## Step 2: Model inference\n",
    "\n",
    "### Load data RDMs\n",
    "\n",
    "We can now load the data. Don't mind all the fuzz, it's not important for now."
   ]
  },
  {
   "cell_type": "code",
   "metadata": {},
   "source": [
    "matlab_data = io.matlab.loadmat('data/noisyModelRDMs_A2020.mat')\n",
    "repr_names_matlab = matlab_data['reprNames']\n",
    "fwhms_matlab = matlab_data['FWHMs']\n",
    "noise_std_matlab = matlab_data['relNoiseStds']\n",
    "rdms_matlab = matlab_data['noisyModelRDMs']\n",
    "repr_names = [repr_names_matlab[i][0][0] for i in range(repr_names_matlab.shape[0])]\n",
    "fwhms = fwhms_matlab.squeeze().astype('float')\n",
    "noise_std = noise_std_matlab.squeeze().astype('float')\n",
    "rdms_matrix = rdms_matlab.squeeze().astype('float')"
   ],
   "outputs": [],
   "execution_count": null
  },
  {
   "cell_type": "markdown",
   "metadata": {},
   "source": [
    "### Choose the data RDMs for inference\n",
    "\n",
    "Here we choose which data RDMs we use. You can change the representation, the noise level and the amount of averaging by changing the index values at the beginning. We then convert the chosen data RDMs into an rsatoolbox RDMs object and display them as we did for the model RDMs."
   ]
  },
  {
   "cell_type": "code",
   "metadata": {
    "scrolled": true
   },
   "source": [
    "# indices choosing brain-computational model, noise level, and the size of the kernel with which each voxel samples the neural activity\n",
    "i_rep = 4 #np.random.randint(len(repr_names)) \n",
    "i_noise = 2 #np.random.randint(len(noise_std))\n",
    "i_fwhm = 0 #np.random.randint(len(fwhms))\n",
    "\n",
    "# print the chosen representation definition\n",
    "repr_name = repr_names[i_rep]\n",
    "print('The chosen ground truth model is:')\n",
    "print(repr_name)\n",
    "print('with noise level:')\n",
    "print(noise_std[i_noise])\n",
    "print('with averaging width (full width at half magnitude):')\n",
    "print(fwhms[i_fwhm])\n",
    "\n",
    "# put the rdms into an RDMs object and show it\n",
    "rdms_data = rsatoolbox.rdm.RDMs(rdms_matrix[:, i_rep, i_fwhm, i_noise, :].transpose())\n",
    "\n",
    "fig, ax, ret_val = rsatoolbox.vis.show_rdm(rdms_data, figsize=(10,10))"
   ],
   "outputs": [],
   "execution_count": null
  },
  {
   "cell_type": "markdown",
   "metadata": {},
   "source": [
    "### Define models\n",
    "\n",
    "From the model RDMs we now create Model objects. There is a lot of magic you can do with different definitions of models, but we will now focus on a simple model that just uses the RDM as is."
   ]
  },
  {
   "cell_type": "code",
   "metadata": {},
   "source": [
    "models = []\n",
    "for i_model in np.unique(model_names):\n",
    "    rdm_m = model_rdms.subset('brain_computational_model', i_model)\n",
    "    m = rsatoolbox.model.ModelFixed(i_model, rdm_m)\n",
    "    models.append(m)\n",
    "\n",
    "print('created the following models:')\n",
    "for i in range(len(models)):\n",
    "    print(models[i].name)"
   ],
   "outputs": [],
   "execution_count": null
  },
  {
   "cell_type": "markdown",
   "metadata": {},
   "source": [
    "### Compare model RDMs to measured RDMs\n",
    "Evaluate models naively, i.e. simply compute the average correlation to the data RDMs."
   ]
  },
  {
   "cell_type": "code",
   "metadata": {},
   "source": [
    "results_1 = rsatoolbox.inference.eval_fixed(models, rdms_data, method='corr')\n",
    "rsatoolbox.vis.plot_model_comparison(results_1)"
   ],
   "outputs": [],
   "execution_count": null
  },
  {
   "cell_type": "markdown",
   "metadata": {},
   "source": [
    "In these plots the errorbars are based on the variability across subjects, which can be handled analytically. The lines above the plot show which pairwise comparisons are significant. The upper bound of the noise ceiling is computed by finding the RDM with the highest possible average similarity to the measured RDMs. This is not 1 because the RDMs for different subjects or measurements differ. The lower bound of the noise ceiling is a leave one out crossvalidation of this averaging procedure, i.e. we find the RDM to perform optimally on all but one of the RDMs and evaluate this average RDM on the left-out RDM. Each RDM is left out once and the correlations are averaged."
   ]
  },
  {
   "cell_type": "markdown",
   "metadata": {},
   "source": [
    "### Questions\n",
    "Does the right model win? Also try out different layers for data generation, at different noise levels. You can also play around with the different metrics, but you will do this in more detail in the next notebook, too."
   ]
  }
 ],
 "metadata": {
  "kernelspec": {
   "display_name": "Python 3 (ipykernel)",
   "language": "python",
   "name": "python3"
  },
  "language_info": {
   "codemirror_mode": {
    "name": "ipython",
    "version": 3
   },
   "file_extension": ".py",
   "mimetype": "text/x-python",
   "name": "python",
   "nbconvert_exporter": "python",
   "pygments_lexer": "ipython3",
   "version": "3.11.13"
  },
  "metadata": {
   "interpreter": {
    "hash": "306733df669f86703ca68e4138a64697e4e8bd47d8228a728899ed125c5a4740"
   }
  }
 },
 "nbformat": 4,
 "nbformat_minor": 4
}
