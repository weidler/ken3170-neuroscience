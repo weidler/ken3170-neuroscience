{
 "cells": [
  {
   "cell_type": "markdown",
   "metadata": {},
   "source": [
    "# Assignment 1: Implementing a Simple Perceptron for Brain-Inspired Classification\n",
    "\n",
    "**Due Date:** [Insert due date]\n",
    "\n",
    "**Total Points:** 100\n",
    "\n",
    "## Assignment Overview\n",
    "\n",
    "In this assignment, you will implement a simple perceptron model inspired by biological neurons to classify basic patterns. This will help you understand the fundamental building blocks of neural networks used in brain modeling.\n",
    "\n",
    "## Learning Goals\n",
    "- Understand the mathematical foundation of artificial neurons\n",
    "- Implement a perceptron from scratch\n",
    "- Apply the model to a simple classification task\n",
    "- Analyze the relationship between artificial and biological neurons"
   ]
  },
  {
   "cell_type": "markdown",
   "metadata": {},
   "source": [
    "## Part 1: Theoretical Questions (20 points)\n",
    "\n",
    "Answer the following questions in markdown cells below:\n",
    "\n",
    "1. **Question 1 (5 points):** Explain the key similarities and differences between biological neurons and artificial neurons (perceptrons).\n",
    "\n",
    "2. **Question 2 (5 points):** What is the role of the activation function in a perceptron? How does it relate to the firing behavior of biological neurons?\n",
    "\n",
    "3. **Question 3 (5 points):** Describe the learning rule used in perceptron training and its biological inspiration.\n",
    "\n",
    "4. **Question 4 (5 points):** What are the limitations of a single perceptron? What types of problems can it solve and what types can it not solve?"
   ]
  },
  {
   "cell_type": "markdown",
   "metadata": {},
   "source": [
    "### Your Answers:\n",
    "\n",
    "**Answer 1:**\n",
    "<!-- Write your answer here -->\n",
    "\n",
    "**Answer 2:**\n",
    "<!-- Write your answer here -->\n",
    "\n",
    "**Answer 3:**\n",
    "<!-- Write your answer here -->\n",
    "\n",
    "**Answer 4:**\n",
    "<!-- Write your answer here -->"
   ]
  },
  {
   "cell_type": "markdown",
   "metadata": {},
   "source": [
    "## Part 2: Implementation (50 points)\n",
    "\n",
    "Implement a perceptron class from scratch using only NumPy."
   ]
  },
  {
   "cell_type": "code",
   "execution_count": null,
   "metadata": {},
   "outputs": [],
   "source": [
    "import numpy as np\n",
    "import matplotlib.pyplot as plt\n",
    "from sklearn.datasets import make_classification\n",
    "from sklearn.model_selection import train_test_split\n",
    "\n",
    "class Perceptron:\n",
    "    \"\"\"\n",
    "    A simple perceptron implementation for binary classification.\n",
    "    \n",
    "    This class implements a basic perceptron following the biological\n",
    "    inspiration of neural computation.\n",
    "    \"\"\"\n",
    "    \n",
    "    def __init__(self, learning_rate=0.01, max_epochs=100):\n",
    "        \"\"\"\n",
    "        Initialize the perceptron.\n",
    "        \n",
    "        Parameters:\n",
    "        learning_rate (float): The learning rate for weight updates\n",
    "        max_epochs (int): Maximum number of training epochs\n",
    "        \"\"\"\n",
    "        # TODO: Initialize your perceptron parameters\n",
    "        pass\n",
    "    \n",
    "    def fit(self, X, y):\n",
    "        \"\"\"\n",
    "        Train the perceptron using the perceptron learning rule.\n",
    "        \n",
    "        Parameters:\n",
    "        X (np.array): Training data of shape (n_samples, n_features)\n",
    "        y (np.array): Target labels of shape (n_samples,)\n",
    "        \"\"\"\n",
    "        # TODO: Implement the training algorithm\n",
    "        pass\n",
    "    \n",
    "    def predict(self, X):\n",
    "        \"\"\"\n",
    "        Make predictions using the trained perceptron.\n",
    "        \n",
    "        Parameters:\n",
    "        X (np.array): Input data of shape (n_samples, n_features)\n",
    "        \n",
    "        Returns:\n",
    "        np.array: Predicted labels\n",
    "        \"\"\"\n",
    "        # TODO: Implement prediction\n",
    "        pass\n",
    "    \n",
    "    def _activation(self, x):\n",
    "        \"\"\"\n",
    "        Apply the activation function (step function for perceptron).\n",
    "        \"\"\"\n",
    "        # TODO: Implement activation function\n",
    "        pass"
   ]
  },
  {
   "cell_type": "markdown",
   "metadata": {},
   "source": [
    "## Part 3: Experimentation and Analysis (30 points)\n",
    "\n",
    "Use your perceptron implementation to solve a classification problem and analyze the results."
   ]
  },
  {
   "cell_type": "code",
   "execution_count": null,
   "metadata": {},
   "outputs": [],
   "source": [
    "# Generate a simple linearly separable dataset\n",
    "X, y = make_classification(n_samples=200, n_features=2, n_redundant=0, \n",
    "                          n_informative=2, n_clusters_per_class=1, \n",
    "                          random_state=42)\n",
    "\n",
    "# Convert labels to binary (0, 1)\n",
    "y = (y + 1) // 2\n",
    "\n",
    "# Split the data\n",
    "X_train, X_test, y_train, y_test = train_test_split(X, y, test_size=0.2, random_state=42)\n",
    "\n",
    "print(f\"Training set size: {X_train.shape}\")\n",
    "print(f\"Test set size: {X_test.shape}\")"
   ]
  },
  {
   "cell_type": "code",
   "execution_count": null,
   "metadata": {},
   "outputs": [],
   "source": [
    "# TODO: Train your perceptron and evaluate its performance\n",
    "# 1. Create and train the perceptron\n",
    "# 2. Make predictions on both training and test sets\n",
    "# 3. Calculate accuracy\n",
    "# 4. Create visualizations of the decision boundary\n",
    "# 5. Analyze the results"
   ]
  },
  {
   "cell_type": "markdown",
   "metadata": {},
   "source": [
    "## Submission Instructions\n",
    "\n",
    "1. Complete all parts of this assignment\n",
    "2. Ensure all code runs without errors\n",
    "3. Include comments explaining your implementation\n",
    "4. Submit the completed notebook file\n",
    "\n",
    "## Grading Rubric\n",
    "\n",
    "- **Theoretical Questions (20 points):** Clear, accurate answers demonstrating understanding\n",
    "- **Implementation (50 points):** Correct and well-documented code\n",
    "- **Experimentation (30 points):** Thorough analysis and interpretation of results"
   ]
  }
 ],
 "metadata": {
  "kernelspec": {
   "display_name": "Python 3",
   "language": "python",
   "name": "python3"
  },
  "language_info": {
   "codemirror_mode": {
    "name": "ipython",
    "version": 3
   },
   "file_extension": ".py",
   "mimetype": "text/x-python",
   "name": "python",
   "nbconvert_exporter": "python",
   "pygments_lexer": "ipython3",
   "version": "3.8.0"
  }
 },
 "nbformat": 4,
 "nbformat_minor": 4
}