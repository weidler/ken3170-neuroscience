{
 "cells": [
  {
   "cell_type": "markdown",
   "metadata": {},
   "source": [
    "# Assignment 2: Neural Network Architectures for Brain Function Modeling\n",
    "\n",
    "**Due Date:** [Insert due date]\n",
    "\n",
    "**Total Points:** 150\n",
    "\n",
    "## Assignment Overview\n",
    "\n",
    "In this assignment, you will explore different neural network architectures and their applications to modeling specific brain functions. You will implement and compare different models for tasks like visual processing, memory, and decision-making.\n",
    "\n",
    "## Learning Objectives\n",
    "- Understand how different neural architectures relate to brain functions\n",
    "- Implement CNN models for visual processing simulation\n",
    "- Explore RNN models for temporal and memory tasks\n",
    "- Compare model performance and biological plausibility"
   ]
  },
  {
   "cell_type": "markdown",
   "metadata": {},
   "source": [
    "## Setup and Imports"
   ]
  },
  {
   "cell_type": "code",
   "execution_count": null,
   "metadata": {},
   "outputs": [],
   "source": [
    "import torch\n",
    "import torch.nn as nn\n",
    "import torch.optim as optim\n",
    "import torch.nn.functional as F\n",
    "import numpy as np\n",
    "import matplotlib.pyplot as plt\n",
    "from torch.utils.data import DataLoader, TensorDataset\n",
    "from torchvision import transforms, datasets\n",
    "import seaborn as sns\n",
    "\n",
    "# Set random seeds\n",
    "torch.manual_seed(42)\n",
    "np.random.seed(42)"
   ]
  },
  {
   "cell_type": "markdown",
   "metadata": {},
   "source": [
    "## Part 1: Visual Processing with CNNs (50 points)\n",
    "\n",
    "Implement a CNN that models the hierarchical processing found in the visual cortex."
   ]
  },
  {
   "cell_type": "code",
   "execution_count": null,
   "metadata": {},
   "outputs": [],
   "source": [
    "class VisualCortexCNN(nn.Module):\n",
    "    \"\"\"\n",
    "    A CNN model inspired by the hierarchical organization of the visual cortex.\n",
    "    \n",
    "    This model should simulate the progression from simple edge detection\n",
    "    to complex object recognition found in biological visual systems.\n",
    "    \"\"\"\n",
    "    \n",
    "    def __init__(self, num_classes=10):\n",
    "        super(VisualCortexCNN, self).__init__()\n",
    "        # TODO: Define your network layers\n",
    "        # Consider the biological inspiration:\n",
    "        # - Early layers detect simple features (edges, orientations)\n",
    "        # - Later layers detect complex patterns and objects\n",
    "        pass\n",
    "    \n",
    "    def forward(self, x):\n",
    "        # TODO: Implement forward pass\n",
    "        pass"
   ]
  },
  {
   "cell_type": "markdown",
   "metadata": {},
   "source": [
    "## Part 2: Memory and Temporal Processing with RNNs (50 points)\n",
    "\n",
    "Implement an RNN model that simulates working memory and temporal processing."
   ]
  },
  {
   "cell_type": "code",
   "execution_count": null,
   "metadata": {},
   "outputs": [],
   "source": [
    "class WorkingMemoryRNN(nn.Module):\n",
    "    \"\"\"\n",
    "    An RNN model inspired by working memory mechanisms in the brain.\n",
    "    \n",
    "    This model should demonstrate how recurrent connections can maintain\n",
    "    information over time, similar to working memory in the prefrontal cortex.\n",
    "    \"\"\"\n",
    "    \n",
    "    def __init__(self, input_size, hidden_size, num_layers=1):\n",
    "        super(WorkingMemoryRNN, self).__init__()\n",
    "        # TODO: Define your RNN architecture\n",
    "        # Consider LSTM or GRU for better memory retention\n",
    "        pass\n",
    "    \n",
    "    def forward(self, x, hidden=None):\n",
    "        # TODO: Implement forward pass with memory mechanisms\n",
    "        pass"
   ]
  },
  {
   "cell_type": "markdown",
   "metadata": {},
   "source": [
    "## Part 3: Comparative Analysis and Biological Interpretation (50 points)\n",
    "\n",
    "Train both models and analyze their behavior in relation to known brain functions."
   ]
  },
  {
   "cell_type": "code",
   "execution_count": null,
   "metadata": {},
   "outputs": [],
   "source": [
    "# TODO: Implement training loops for both models\n",
    "# TODO: Create appropriate datasets for each model\n",
    "# TODO: Train and evaluate the models\n",
    "# TODO: Analyze the learned representations\n",
    "# TODO: Compare with known brain data/behavior"
   ]
  },
  {
   "cell_type": "markdown",
   "metadata": {},
   "source": [
    "## Deliverables\n",
    "\n",
    "1. **Code Implementation:** Complete, working implementations of both models\n",
    "2. **Training Results:** Evidence of successful training with plots and metrics\n",
    "3. **Analysis Report:** Written analysis comparing your models to biological systems\n",
    "4. **Reflection:** Discussion of limitations and future improvements\n",
    "\n",
    "## Grading Criteria\n",
    "\n",
    "- **Implementation Quality (60 points):** Correct, well-documented code\n",
    "- **Experimental Results (45 points):** Thorough training and evaluation\n",
    "- **Biological Interpretation (45 points):** Insightful analysis of brain-model connections"
   ]
  }
 ],
 "metadata": {
  "kernelspec": {
   "display_name": "Python 3",
   "language": "python",
   "name": "python3"
  },
  "language_info": {
   "codemirror_mode": {
    "name": "ipython",
    "version": 3
   },
   "file_extension": ".py",
   "mimetype": "text/x-python",
   "name": "python",
   "nbconvert_exporter": "python",
   "pygments_lexer": "ipython3",
   "version": "3.8.0"
  }
 },
 "nbformat": 4,
 "nbformat_minor": 4
}